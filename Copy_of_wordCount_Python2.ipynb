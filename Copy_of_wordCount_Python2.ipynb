{
  "nbformat": 4,
  "nbformat_minor": 0,
  "metadata": {
    "colab": {
      "name": "Copy of wordCount Python2.ipynb",
      "provenance": [],
      "authorship_tag": "ABX9TyNczAQn0O60gC4sz58tiqkD",
      "include_colab_link": true
    },
    "kernelspec": {
      "name": "python3",
      "display_name": "Python 3"
    }
  },
  "cells": [
    {
      "cell_type": "markdown",
      "metadata": {
        "id": "view-in-github",
        "colab_type": "text"
      },
      "source": [
        "<a href=\"https://colab.research.google.com/github/Tekum21/Word_count_Python/blob/master/Copy_of_wordCount_Python2.ipynb\" target=\"_parent\"><img src=\"https://colab.research.google.com/assets/colab-badge.svg\" alt=\"Open In Colab\"/></a>"
      ]
    },
    {
      "cell_type": "markdown",
      "metadata": {
        "id": "AbhYTkEbI1Ha",
        "colab_type": "text"
      },
      "source": [
        "#Simple Word count using Python\n",
        "#we will use as essay as input"
      ]
    },
    {
      "cell_type": "code",
      "metadata": {
        "id": "pXU6O2ajJy_j",
        "colab_type": "code",
        "colab": {}
      },
      "source": [
        "import os\n",
        "from wordcloud import WordCloud, STOPWORDS\n",
        "import matplotlib.pyplot as plt\n",
        "\n",
        "TEXT_FILE=\"against-interpretation.txt\""
      ],
      "execution_count": 0,
      "outputs": []
    },
    {
      "cell_type": "code",
      "metadata": {
        "id": "Cd7l59ORJzD5",
        "colab_type": "code",
        "colab": {}
      },
      "source": [
        "!ls # OR [\".config\",\"against-interpretation.txt\",\"sample_data\"]"
      ],
      "execution_count": 0,
      "outputs": []
    },
    {
      "cell_type": "code",
      "metadata": {
        "id": "RIW4MpMIM8Qx",
        "colab_type": "code",
        "colab": {}
      },
      "source": [
        "# Read the file and parse it to great a list of lower-case words\n",
        "# Some words has \"\\n\", \",\", or \".\" at the end. \n",
        "# These extra characters are to be removed.\n",
        "# Also, exclude the words that are considered STOPWORDS\n",
        "\n",
        "TEXT_FILE =\"against-interpretation.txt\"\n",
        "\n",
        "with open(TEXT_FILE,encoding ='utf-8', errors ='ignore') as file:\n",
        "  susan_lines = file.readlines()\n",
        "  \n",
        "susan_words = []\n",
        "for line in susan_lines:\n",
        "    for word in line.split(\" \"):\n",
        "        word = word.strip().rstrip(\"\\n\").rstrip(\".\").rstrip(\",\").lower()\n",
        "        if word in STOPWORDS:                  # ignore the STOPWORDS\n",
        "            continue\n",
        "        else:\n",
        "            susan_words.append(word)\n",
        "\n",
        "susan_words[:10]         # Display the first 10 words"
      ],
      "execution_count": 0,
      "outputs": []
    },
    {
      "cell_type": "code",
      "metadata": {
        "id": "JAEbOhfFWOYo",
        "colab_type": "code",
        "colab": {}
      },
      "source": [
        "list(STOPWORDS)"
      ],
      "execution_count": 0,
      "outputs": []
    },
    {
      "cell_type": "markdown",
      "metadata": {
        "id": "7yuSFoE3bq78",
        "colab_type": "text"
      },
      "source": [
        "Performing word count and displaying top 10 frequent words.\n"
      ]
    },
    {
      "cell_type": "code",
      "metadata": {
        "id": "SNddCL8VQjvH",
        "colab_type": "code",
        "colab": {}
      },
      "source": [
        "wordCounts_dict = {} # We start by creating an empty dict.\n",
        "for word in susan_words:\n",
        "  if word in wordCounts_dict.keys():\n",
        "     wordCounts_dict[word]=wordCounts_dict[word]+1 # increase value by 1\n",
        "  else:\n",
        "    wordCounts_dict[word]=1                        # add a new value pair\n",
        "wordCounts_dict"
      ],
      "execution_count": 0,
      "outputs": []
    },
    {
      "cell_type": "code",
      "metadata": {
        "id": "NVCKLl87RVdl",
        "colab_type": "code",
        "colab": {}
      },
      "source": [
        "list(wordCounts_dict.items())[:10]"
      ],
      "execution_count": 0,
      "outputs": []
    },
    {
      "cell_type": "code",
      "metadata": {
        "id": "EvytzutXe7yG",
        "colab_type": "code",
        "colab": {}
      },
      "source": [
        "import operator\n",
        "sorted_dict=sorted(wordCounts_dict.items(),key=operator.itemgetter(1))"
      ],
      "execution_count": 0,
      "outputs": []
    },
    {
      "cell_type": "code",
      "metadata": {
        "id": "MTZiEEYIW93k",
        "colab_type": "code",
        "colab": {}
      },
      "source": [
        "#display top 10 frequent words.\n",
        "sorted(wordCounts_dict.items(), key=lambda x: x[1], reverse=True)[:10]"
      ],
      "execution_count": 0,
      "outputs": []
    },
    {
      "cell_type": "markdown",
      "metadata": {
        "id": "UJ5bb9RXbS5M",
        "colab_type": "text"
      },
      "source": [
        "Generating WordCloud"
      ]
    },
    {
      "cell_type": "code",
      "metadata": {
        "id": "6Fn6RI3AZYGj",
        "colab_type": "code",
        "colab": {}
      },
      "source": [
        "# Generate and plot word cloud.\n",
        "wc = WordCloud()\n",
        "\n",
        "text = \"\".join(lines)       # combine  list of strings into one single string\n",
        "\n",
        "wc.generate(text)   \n",
        "\n",
        "fig = plt.figure(figsize = (10,8))\n",
        "plt.imshow(wc)\n",
        "plt.axis('off')\n",
        "plt.tight_layout(pad=0)\n",
        "plt.show()"
      ],
      "execution_count": 0,
      "outputs": []
    }
  ]
}