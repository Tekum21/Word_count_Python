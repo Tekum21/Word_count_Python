{
  "nbformat": 4,
  "nbformat_minor": 0,
  "metadata": {
    "colab": {
      "name": "word-count_python2.ipynb",
      "provenance": [],
      "authorship_tag": "ABX9TyPjQioxYTLaQ06KoQEebEl1",
      "include_colab_link": true
    },
    "kernelspec": {
      "name": "python3",
      "display_name": "Python 3"
    }
  },
  "cells": [
    {
      "cell_type": "markdown",
      "metadata": {
        "id": "view-in-github",
        "colab_type": "text"
      },
      "source": [
        "<a href=\"https://colab.research.google.com/github/Tekum21/Word_count_Python/blob/master/word_count_python2.ipynb\" target=\"_parent\"><img src=\"https://colab.research.google.com/assets/colab-badge.svg\" alt=\"Open In Colab\"/></a>"
      ]
    },
    {
      "cell_type": "markdown",
      "metadata": {
        "id": "AbhYTkEbI1Ha",
        "colab_type": "text"
      },
      "source": [
        "#Simple Word count using Python\n",
        "#we will use as essay as input"
      ]
    },
    {
      "cell_type": "code",
      "metadata": {
        "id": "hLVVpYAvKl_y",
        "colab_type": "code",
        "colab": {}
      },
      "source": [
        "import os\n",
        "\n",
        "os.listdir()\n",
        "\n",
        "[\".config\",\"against-interpretation.txt\",\"sample_data\"]\n"
      ],
      "execution_count": 0,
      "outputs": []
    },
    {
      "cell_type": "markdown",
      "metadata": {
        "id": "IrTIdrT5L-F8",
        "colab_type": "text"
      },
      "source": [
        "# New Section"
      ]
    },
    {
      "cell_type": "code",
      "metadata": {
        "id": "Ibmfn6t2GANk",
        "colab_type": "code",
        "colab": {}
      },
      "source": [
        "TEXT_FILE =\"against-interpretation.txt\"\n",
        "\n",
        "with open(TEXT_FILE,encoding ='utf-8', errors ='ignore') as file:\n",
        "  susan_lines = file.readlines()\n",
        "\n",
        "lines[:10]\n",
        "\n",
        "len(susan_lines)"
      ],
      "execution_count": 0,
      "outputs": []
    },
    {
      "cell_type": "code",
      "metadata": {
        "id": "ozSzakZrPNZK",
        "colab_type": "code",
        "colab": {}
      },
      "source": [
        "susan_words2=[]\n",
        "\n",
        "for x in susan_words:\n",
        "  for word in x:\n",
        "    susan_words2.append(word.lower())\n",
        "\n",
        "len(susan_words2)\n"
      ],
      "execution_count": 0,
      "outputs": []
    },
    {
      "cell_type": "code",
      "metadata": {
        "id": "JAEbOhfFWOYo",
        "colab_type": "code",
        "colab": {}
      },
      "source": [
        "list(STOPWORDS)"
      ],
      "execution_count": 0,
      "outputs": []
    },
    {
      "cell_type": "code",
      "metadata": {
        "id": "sI4ksFrEQRTa",
        "colab_type": "code",
        "colab": {}
      },
      "source": [
        "susan_words2[:50]"
      ],
      "execution_count": 0,
      "outputs": []
    },
    {
      "cell_type": "code",
      "metadata": {
        "id": "SNddCL8VQjvH",
        "colab_type": "code",
        "colab": {}
      },
      "source": [
        "word-count_dict = {}\n",
        "for word in susan_words2:\n",
        "  if word in word_count_dict.keys():\n",
        "     word_count_dict[word]=word_count_dict[word]+1 # increase value by 1\n",
        "  else:\n",
        "    word_count_dict[word]=1                        # add a new value pair\n",
        "word_count_dict"
      ],
      "execution_count": 0,
      "outputs": []
    },
    {
      "cell_type": "code",
      "metadata": {
        "id": "NVCKLl87RVdl",
        "colab_type": "code",
        "colab": {}
      },
      "source": [
        "list(word_count_dict.items())[:10]"
      ],
      "execution_count": 0,
      "outputs": []
    },
    {
      "cell_type": "code",
      "metadata": {
        "id": "Tv1m8qjNUEn5",
        "colab_type": "code",
        "colab": {}
      },
      "source": [
        "import operator\n",
        "sorted_dict=sorted(word_count_dict.items(),key=operator.itemgetter(1))"
      ],
      "execution_count": 0,
      "outputs": []
    }
  ]
}