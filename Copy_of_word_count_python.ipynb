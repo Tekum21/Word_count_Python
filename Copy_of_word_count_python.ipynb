{
  "nbformat": 4,
  "nbformat_minor": 0,
  "metadata": {
    "colab": {
      "name": "Copy of word_count_python.ipynb",
      "provenance": [],
      "machine_shape": "hm",
      "authorship_tag": "ABX9TyOi3t+XGPm0w3S/yy6vE9xs",
      "include_colab_link": true
    },
    "kernelspec": {
      "name": "python3",
      "display_name": "Python 3"
    }
  },
  "cells": [
    {
      "cell_type": "markdown",
      "metadata": {
        "id": "view-in-github",
        "colab_type": "text"
      },
      "source": [
        "<a href=\"https://colab.research.google.com/github/Tekum21/Word_count_Python/blob/master/Copy_of_word_count_python.ipynb\" target=\"_parent\"><img src=\"https://colab.research.google.com/assets/colab-badge.svg\" alt=\"Open In Colab\"/></a>"
      ]
    },
    {
      "cell_type": "markdown",
      "metadata": {
        "id": "mcuwcUXe5nFc",
        "colab_type": "text"
      },
      "source": [
        "# Simple word count using Python\n"
      ]
    },
    {
      "cell_type": "code",
      "metadata": {
        "id": "MYc29twI4knE",
        "colab_type": "code",
        "outputId": "63006f06-c266-4605-ed1f-52320c5aeab9",
        "colab": {
          "base_uri": "https://localhost:8080/",
          "height": 35
        }
      },
      "source": [
        "hamlet_lines =[\"To be or\",\"not to be\"]\n",
        "\n",
        "hamlet_words=[]\n",
        "\n",
        "for lines in hamlet_lines:\n",
        "  words=lines.split(\" \")\n",
        "  hamlet_words.append(words)\n",
        "hamlet_words"
      ],
      "execution_count": 0,
      "outputs": [
        {
          "output_type": "execute_result",
          "data": {
            "text/plain": [
              "[['To', 'be', 'or'], ['not', 'to', 'be']]"
            ]
          },
          "metadata": {
            "tags": []
          },
          "execution_count": 10
        }
      ]
    },
    {
      "cell_type": "code",
      "metadata": {
        "id": "YrEwJcET7wMy",
        "colab_type": "code",
        "outputId": "77edb213-db4d-4f67-8286-fea4dd3365c8",
        "colab": {
          "base_uri": "https://localhost:8080/",
          "height": 35
        }
      },
      "source": [
        "hamlet_words2=[]\n",
        "\n",
        "for x in hamlet_words:\n",
        "  for word in x:\n",
        "    hamlet_words2.append(word.lower())\n",
        "\n",
        "hamlet_words2"
      ],
      "execution_count": 0,
      "outputs": [
        {
          "output_type": "execute_result",
          "data": {
            "text/plain": [
              "['to', 'be', 'or', 'not', 'to', 'be']"
            ]
          },
          "metadata": {
            "tags": []
          },
          "execution_count": 11
        }
      ]
    },
    {
      "cell_type": "code",
      "metadata": {
        "id": "XyABhBBE-H1e",
        "colab_type": "code",
        "colab": {}
      },
      "source": [
        "word_count_dict={}"
      ],
      "execution_count": 0,
      "outputs": []
    },
    {
      "cell_type": "code",
      "metadata": {
        "id": "IPOfgOHg-oRE",
        "colab_type": "code",
        "outputId": "503b2941-f74f-46a0-8fb1-f97fb9a745f7",
        "colab": {
          "base_uri": "https://localhost:8080/",
          "height": 35
        }
      },
      "source": [
        "for word in hamlet_words2:\n",
        "  if word in word_count_dict.keys():\n",
        "     word_count_dict[word]=word_count_dict[word]+1 # increase value by 1\n",
        "  else:\n",
        "    word_count_dict[word]=1                        # add a new value pair\n",
        "word_count_dict              "
      ],
      "execution_count": 0,
      "outputs": [
        {
          "output_type": "execute_result",
          "data": {
            "text/plain": [
              "{'be': 2, 'not': 1, 'or': 1, 'to': 2}"
            ]
          },
          "metadata": {
            "tags": []
          },
          "execution_count": 13
        }
      ]
    },
    {
      "cell_type": "code",
      "metadata": {
        "id": "MsQUGeX-9Us8",
        "colab_type": "code",
        "colab": {}
      },
      "source": [
        ""
      ],
      "execution_count": 0,
      "outputs": []
    }
  ]
}